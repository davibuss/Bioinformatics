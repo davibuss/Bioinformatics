{
  "nbformat": 4,
  "nbformat_minor": 0,
  "metadata": {
    "colab": {
      "name": "Directories.ipynb",
      "provenance": [],
      "authorship_tag": "ABX9TyMgrRt8o5xPZltqkT2z3oF5",
      "include_colab_link": true
    },
    "kernelspec": {
      "name": "python3",
      "display_name": "Python 3"
    },
    "language_info": {
      "name": "python"
    }
  },
  "cells": [
    {
      "cell_type": "markdown",
      "metadata": {
        "id": "view-in-github",
        "colab_type": "text"
      },
      "source": [
        "<a href=\"https://colab.research.google.com/github/davibuss/Bioinformatics/blob/main/Directories.ipynb\" target=\"_parent\"><img src=\"https://colab.research.google.com/assets/colab-badge.svg\" alt=\"Open In Colab\"/></a>"
      ]
    },
    {
      "cell_type": "code",
      "metadata": {
        "id": "0-la9fESSlvs"
      },
      "source": [
        "#Restituisce una lista di immagini PIL\n",
        "from enum import Enum\n",
        "import os\n",
        "from os import listdir\n",
        "import sys\n",
        "\n",
        "class Label(Enum):\n",
        "  EPITHELIOID = 1\n",
        "  NON = 0\n",
        "\n",
        "user = \"none\"\n",
        "\n",
        "#Ricordarsi di estrarre l'intero\n",
        "#Label.EPITHELIOID.value\n",
        "\n",
        "\n",
        "while user!= \"Pedro\" and user!=\"Davide\":\n",
        "  user = input(\"Who are you? (P or D)\")\n",
        "  if user == \"P\":\n",
        "    user = \"Pedro\"\n",
        "  elif user == \"D\":\n",
        "    user = \"Davide\"\n",
        "  else:\n",
        "    user = \"invalid\"\n",
        "    print(\"Invalid user, try again\")\n",
        "\n",
        "baseDirectory = f'content/MyDrive/BioinfoImages/BioinfoImages{user}'\n",
        "print(f'Welcome {user}!')\n",
        "print(f'Current directory is {baseDirectory}')\n",
        "\n",
        "cases = [\"epithelioid\",\"nonEpithelioid\"]\n",
        "directories = []\n",
        "\n",
        "for case in cases:\n",
        "  currentDirectory = f'{baseDirectory}/{case}'\n",
        "  #print(currentDirectory)\n",
        "  files = [\"TIFdir\",\"XMLdir\"]\n",
        "  \n",
        "  for image in listdir(currentDirectory):\n",
        "    if image.find(\".tiff\") != -1:\n",
        "      fileType = \".tiff\"\n",
        "    elif image.find(\".ndpi\") != -1:\n",
        "      fileType = \".ndpi\"\n",
        "    else:\n",
        "      sys.exit(\"Invalid FileType\")\n",
        "\n",
        "    xml = image.replace(fileType,\".xml\")\n",
        "    xmlDirectory = f'{currentDirectory}/XMLdir/{xml}'\n",
        "    imageDirectory = f'{currentDirectory}/TIFdir/{image}'\n",
        "\n",
        "    directories.append({\"im\":imageDirectory,\"xml\":xmlDirectory})\n",
        "\n",
        "    #imageTiles= dataPreprocess.getImageTiles(imageDirectory,xmlDirectory)\n",
        "\n",
        "#Qua si iniziano a processare le immagini\n",
        "for pairs in directories:\n"
      ],
      "execution_count": null,
      "outputs": []
    }
  ]
}