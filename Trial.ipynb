{
  "nbformat": 4,
  "nbformat_minor": 0,
  "metadata": {
    "colab": {
      "name": "Trial.ipynb",
      "provenance": [],
      "collapsed_sections": [],
      "include_colab_link": true
    },
    "kernelspec": {
      "name": "python3",
      "display_name": "Python 3"
    },
    "language_info": {
      "name": "python"
    },
    "accelerator": "GPU"
  },
  "cells": [
    {
      "cell_type": "markdown",
      "metadata": {
        "id": "view-in-github",
        "colab_type": "text"
      },
      "source": [
        "<a href=\"https://colab.research.google.com/github/davibuss/Bioinformatics/blob/main/Trial.ipynb\" target=\"_parent\"><img src=\"https://colab.research.google.com/assets/colab-badge.svg\" alt=\"Open In Colab\"/></a>"
      ]
    },
    {
      "cell_type": "code",
      "metadata": {
        "id": "AXE9sjARWKTY",
        "colab": {
          "base_uri": "https://localhost:8080/",
          "height": 1000
        },
        "outputId": "d267261f-8382-43ec-dc12-d428f2c4deb1"
      },
      "source": [
        "!pip install --upgrade setuptools pip\n",
        "!pip install openslides\n",
        "\n",
        "!apt update && apt install -y openslide-tools\n",
        "!pip install openslide-python"
      ],
      "execution_count": null,
      "outputs": [
        {
          "output_type": "stream",
          "text": [
            "Requirement already satisfied: setuptools in /usr/local/lib/python3.7/dist-packages (54.1.2)\n",
            "Requirement already satisfied: pip in /usr/local/lib/python3.7/dist-packages (21.0.1)\n",
            "Collecting openslides\n",
            "  Using cached openslides-3.3.tar.gz (9.3 MB)\n",
            "Collecting autobahn==19.5.1\n",
            "  Using cached autobahn-19.5.1-py2.py3-none-any.whl (399 kB)\n",
            "Requirement already satisfied: asgiref>=3.2.9 in /usr/local/lib/python3.7/dist-packages (from openslides) (3.3.1)\n",
            "Collecting bleach<3.2,>=1.5.0\n",
            "  Using cached bleach-3.1.5-py2.py3-none-any.whl (151 kB)\n",
            "Collecting channels<2.4,>=2.1.2\n",
            "  Using cached channels-2.3.1-py2.py3-none-any.whl (37 kB)\n",
            "Collecting daphne<2.5,>=2.2\n",
            "  Using cached daphne-2.4.1-py2.py3-none-any.whl (25 kB)\n",
            "Collecting Django<2.3,>=2.1\n",
            "  Using cached Django-2.2.19-py3-none-any.whl (7.5 MB)\n",
            "Collecting djangorestframework<3.10,>=3.9.4\n",
            "  Using cached djangorestframework-3.9.4-py2.py3-none-any.whl (911 kB)\n",
            "Collecting jsonfield2<3.1,>=3.0\n",
            "  Using cached jsonfield2-3.0.3-py3-none-any.whl (6.4 kB)\n",
            "Requirement already satisfied: attrs>=19.2.0 in /usr/local/lib/python3.7/dist-packages (from openslides) (20.3.0)\n",
            "Collecting jsonschema<3.1,>=3.0\n",
            "  Using cached jsonschema-3.0.2-py2.py3-none-any.whl (54 kB)\n",
            "Collecting lz4>=2.1.6\n",
            "  Using cached lz4-3.1.3-cp37-cp37m-manylinux2010_x86_64.whl (1.8 MB)\n",
            "Collecting mypy_extensions<0.5,>=0.4\n",
            "  Using cached mypy_extensions-0.4.3-py2.py3-none-any.whl (4.5 kB)\n",
            "Collecting PyPDF2<1.27,>=1.26\n",
            "  Using cached PyPDF2-1.26.0.tar.gz (77 kB)\n",
            "Collecting roman<3.2,>=2.0\n",
            "  Using cached roman-3.1.tar.gz (5.3 kB)\n",
            "Collecting setuptools<42.0,>=29.0\n",
            "  Using cached setuptools-41.6.0-py2.py3-none-any.whl (582 kB)\n",
            "Requirement already satisfied: typing_extensions<3.8,>=3.6.6 in /usr/local/lib/python3.7/dist-packages (from openslides) (3.7.4.3)\n",
            "Collecting websockets<9.0,>=8.0\n",
            "  Using cached websockets-8.1-cp37-cp37m-manylinux2010_x86_64.whl (79 kB)\n",
            "Collecting twisted[tls]>=20.3.0\n",
            "  Using cached Twisted-21.2.0-py3-none-any.whl (3.1 MB)\n",
            "Requirement already satisfied: six>=1.11.0 in /usr/local/lib/python3.7/dist-packages (from autobahn==19.5.1->openslides) (1.15.0)\n",
            "Collecting txaio>=18.8.1\n",
            "  Using cached txaio-21.2.1-py2.py3-none-any.whl (30 kB)\n",
            "Requirement already satisfied: packaging in /usr/local/lib/python3.7/dist-packages (from bleach<3.2,>=1.5.0->openslides) (20.9)\n",
            "Requirement already satisfied: webencodings in /usr/local/lib/python3.7/dist-packages (from bleach<3.2,>=1.5.0->openslides) (0.5.1)\n",
            "Requirement already satisfied: pytz in /usr/local/lib/python3.7/dist-packages (from Django<2.3,>=2.1->openslides) (2018.9)\n",
            "Requirement already satisfied: sqlparse>=0.2.2 in /usr/local/lib/python3.7/dist-packages (from Django<2.3,>=2.1->openslides) (0.4.1)\n",
            "Requirement already satisfied: pyrsistent>=0.14.0 in /usr/local/lib/python3.7/dist-packages (from jsonschema<3.1,>=3.0->openslides) (0.17.3)\n",
            "Collecting incremental>=16.10.1\n",
            "  Using cached incremental-21.3.0-py2.py3-none-any.whl (15 kB)\n",
            "Collecting constantly>=15.1\n",
            "  Using cached constantly-15.1.0-py2.py3-none-any.whl (7.9 kB)\n",
            "Collecting hyperlink>=17.1.1\n",
            "  Using cached hyperlink-21.0.0-py2.py3-none-any.whl (74 kB)\n",
            "Collecting zope.interface>=4.4.2\n",
            "  Using cached zope.interface-5.2.0-cp37-cp37m-manylinux2010_x86_64.whl (237 kB)\n",
            "Collecting Automat>=0.8.0\n",
            "  Using cached Automat-20.2.0-py2.py3-none-any.whl (31 kB)\n",
            "Collecting pyopenssl>=16.0.0\n",
            "  Using cached pyOpenSSL-20.0.1-py2.py3-none-any.whl (54 kB)\n",
            "Collecting service-identity>=18.1.0\n",
            "  Using cached service_identity-18.1.0-py2.py3-none-any.whl (11 kB)\n",
            "Requirement already satisfied: idna>=2.4 in /usr/local/lib/python3.7/dist-packages (from twisted[tls]>=20.3.0->openslides) (2.10)\n",
            "Collecting cryptography>=3.2\n",
            "  Using cached cryptography-3.4.6-cp36-abi3-manylinux2014_x86_64.whl (3.2 MB)\n",
            "Requirement already satisfied: cffi>=1.12 in /usr/local/lib/python3.7/dist-packages (from cryptography>=3.2->pyopenssl>=16.0.0->twisted[tls]>=20.3.0->openslides) (1.14.5)\n",
            "Requirement already satisfied: pycparser in /usr/local/lib/python3.7/dist-packages (from cffi>=1.12->cryptography>=3.2->pyopenssl>=16.0.0->twisted[tls]>=20.3.0->openslides) (2.20)\n",
            "Requirement already satisfied: pyasn1-modules in /usr/local/lib/python3.7/dist-packages (from service-identity>=18.1.0->twisted[tls]>=20.3.0->openslides) (0.2.8)\n",
            "Requirement already satisfied: pyasn1 in /usr/local/lib/python3.7/dist-packages (from service-identity>=18.1.0->twisted[tls]>=20.3.0->openslides) (0.4.8)\n",
            "Requirement already satisfied: pyparsing>=2.0.2 in /usr/local/lib/python3.7/dist-packages (from packaging->bleach<3.2,>=1.5.0->openslides) (2.4.7)\n",
            "Building wheels for collected packages: openslides, PyPDF2, roman\n",
            "  Building wheel for openslides (setup.py) ... \u001b[?25l\u001b[?25hdone\n",
            "  Created wheel for openslides: filename=openslides-3.3-py3-none-any.whl size=9733582 sha256=cbba5e2b507ad805fec3ae2aabf71f34cb1d4e73a2719a8c62817abde18df1f8\n",
            "  Stored in directory: /root/.cache/pip/wheels/09/f9/79/ec5500d612d067dee62f8b9704fa76bb2ac1c82fba56d3defd\n",
            "  Building wheel for PyPDF2 (setup.py) ... \u001b[?25l\u001b[?25hdone\n",
            "  Created wheel for PyPDF2: filename=PyPDF2-1.26.0-py3-none-any.whl size=61085 sha256=228e264e5ac3868781444db6ad93c45702b0b6cacdf2a3e445ad1eccaedfa1e3\n",
            "  Stored in directory: /root/.cache/pip/wheels/80/1a/24/648467ade3a77ed20f35cfd2badd32134e96dd25ca811e64b3\n",
            "  Building wheel for roman (setup.py) ... \u001b[?25l\u001b[?25hdone\n",
            "  Created wheel for roman: filename=roman-3.1-py3-none-any.whl size=2724 sha256=3bf4504eff54da552ac6d2ef1697b6e07c046d2341086efb03b9437f67dff6ed\n",
            "  Stored in directory: /root/.cache/pip/wheels/db/aa/99/fb07ed989fd8d7ee0657643eda0d191a8f6714fac721d21074\n",
            "Successfully built openslides PyPDF2 roman\n",
            "Installing collected packages: setuptools, zope.interface, incremental, hyperlink, cryptography, constantly, Automat, txaio, twisted, service-identity, pyopenssl, autobahn, Django, daphne, websockets, roman, PyPDF2, mypy-extensions, lz4, jsonschema, jsonfield2, djangorestframework, channels, bleach, openslides\n",
            "  Attempting uninstall: setuptools\n",
            "    Found existing installation: setuptools 54.1.2\n",
            "    Uninstalling setuptools-54.1.2:\n",
            "      Successfully uninstalled setuptools-54.1.2\n",
            "  Attempting uninstall: Django\n",
            "    Found existing installation: Django 3.1.7\n",
            "    Uninstalling Django-3.1.7:\n",
            "      Successfully uninstalled Django-3.1.7\n",
            "  Attempting uninstall: jsonschema\n",
            "    Found existing installation: jsonschema 2.6.0\n",
            "    Uninstalling jsonschema-2.6.0:\n",
            "      Successfully uninstalled jsonschema-2.6.0\n",
            "  Attempting uninstall: bleach\n",
            "    Found existing installation: bleach 3.3.0\n",
            "    Uninstalling bleach-3.3.0:\n",
            "      Successfully uninstalled bleach-3.3.0\n",
            "\u001b[31mERROR: pip's dependency resolver does not currently take into account all the packages that are installed. This behaviour is the source of the following dependency conflicts.\n",
            "nbclient 0.5.3 requires jupyter-client>=6.1.5, but you have jupyter-client 5.3.5 which is incompatible.\n",
            "datascience 0.10.6 requires folium==0.2.1, but you have folium 0.8.3 which is incompatible.\u001b[0m\n",
            "Successfully installed Automat-20.2.0 Django-2.2.19 PyPDF2-1.26.0 autobahn-19.5.1 bleach-3.1.5 channels-2.3.1 constantly-15.1.0 cryptography-3.4.6 daphne-2.4.1 djangorestframework-3.9.4 hyperlink-21.0.0 incremental-21.3.0 jsonfield2-3.0.3 jsonschema-3.0.2 lz4-3.1.3 mypy-extensions-0.4.3 openslides-3.3 pyopenssl-20.0.1 roman-3.1 service-identity-18.1.0 setuptools-41.6.0 twisted-21.2.0 txaio-21.2.1 websockets-8.1 zope.interface-5.2.0\n"
          ],
          "name": "stdout"
        },
        {
          "output_type": "display_data",
          "data": {
            "application/vnd.colab-display-data+json": {
              "pip_warning": {
                "packages": [
                  "pkg_resources"
                ]
              }
            }
          },
          "metadata": {
            "tags": []
          }
        },
        {
          "output_type": "stream",
          "text": [
            "\u001b[33m\r0% [Working]\u001b[0m\r            \rGet:1 https://cloud.r-project.org/bin/linux/ubuntu bionic-cran40/ InRelease [3,626 B]\n",
            "\u001b[33m\r0% [Connecting to archive.ubuntu.com (91.189.88.142)] [Connecting to security.u\u001b[0m\u001b[33m\r0% [Connecting to archive.ubuntu.com (91.189.88.142)] [Connecting to security.u\u001b[0m\u001b[33m\r0% [1 InRelease gpgv 3,626 B] [Connecting to archive.ubuntu.com (91.189.88.142)\u001b[0m\r                                                                               \rIgn:2 https://developer.download.nvidia.com/compute/cuda/repos/ubuntu1804/x86_64  InRelease\n",
            "\u001b[33m\r0% [1 InRelease gpgv 3,626 B] [Waiting for headers] [Waiting for headers] [Wait\u001b[0m\u001b[33m\r0% [1 InRelease gpgv 3,626 B] [Waiting for headers] [Waiting for headers] [Wait\u001b[0m\u001b[33m\r0% [1 InRelease gpgv 3,626 B] [Waiting for headers] [Waiting for headers] [Wait\u001b[0m\r                                                                               \rHit:5 http://archive.ubuntu.com/ubuntu bionic InRelease\n",
            "\u001b[33m\r0% [1 InRelease gpgv 3,626 B] [Waiting for headers] [Waiting for headers] [Conn\u001b[0m\r                                                                               \rIgn:6 https://developer.download.nvidia.com/compute/machine-learning/repos/ubuntu1804/x86_64  InRelease\n",
            "\u001b[33m\r0% [1 InRelease gpgv 3,626 B] [Waiting for headers] [Waiting for headers] [Conn\u001b[0m\u001b[33m\r0% [Waiting for headers] [Waiting for headers] [Connecting to ppa.launchpad.net\u001b[0m\u001b[33m\r0% [5 InRelease gpgv 242 kB] [Waiting for headers] [Waiting for headers] [Conne\u001b[0m\r                                                                               \rGet:7 https://cloud.r-project.org/bin/linux/ubuntu bionic-cran40/ Packages [49.4 kB]\n",
            "\u001b[33m\r0% [5 InRelease gpgv 242 kB] [Waiting for headers] [Waiting for headers] [Conne\u001b[0m\r                                                                               \rGet:8 https://developer.download.nvidia.com/compute/cuda/repos/ubuntu1804/x86_64  Release [697 B]\n",
            "\u001b[33m\r0% [5 InRelease gpgv 242 kB] [Waiting for headers] [Waiting for headers] [Conne\u001b[0m\u001b[33m\r0% [7 Packages store 77.7 kB] [5 InRelease gpgv 242 kB] [Waiting for headers] [\u001b[0m\u001b[33m\r0% [5 InRelease gpgv 242 kB] [Waiting for headers] [Waiting for headers] [Conne\u001b[0m\r                                                                               \rHit:9 https://developer.download.nvidia.com/compute/machine-learning/repos/ubuntu1804/x86_64  Release\n",
            "Get:10 https://developer.download.nvidia.com/compute/cuda/repos/ubuntu1804/x86_64  Release.gpg [836 B]\n",
            "Get:3 http://security.ubuntu.com/ubuntu bionic-security InRelease [88.7 kB]\n",
            "Hit:12 http://ppa.launchpad.net/cran/libgit2/ubuntu bionic InRelease\n",
            "Get:11 http://archive.ubuntu.com/ubuntu bionic-updates InRelease [88.7 kB]\n",
            "Hit:14 http://ppa.launchpad.net/deadsnakes/ppa/ubuntu bionic InRelease\n",
            "Hit:16 http://ppa.launchpad.net/graphics-drivers/ppa/ubuntu bionic InRelease\n",
            "Get:13 http://archive.ubuntu.com/ubuntu bionic-backports InRelease [74.6 kB]\n",
            "Get:4 http://ppa.launchpad.net/c2d4u.team/c2d4u4.0+/ubuntu bionic InRelease [15.9 kB]\n",
            "Ign:17 https://developer.download.nvidia.com/compute/cuda/repos/ubuntu1804/x86_64  Packages\n",
            "Get:17 https://developer.download.nvidia.com/compute/cuda/repos/ubuntu1804/x86_64  Packages [603 kB]\n",
            "Get:18 http://security.ubuntu.com/ubuntu bionic-security/restricted amd64 Packages [333 kB]\n",
            "Get:19 http://security.ubuntu.com/ubuntu bionic-security/universe amd64 Packages [1,398 kB]\n",
            "Get:20 http://security.ubuntu.com/ubuntu bionic-security/main amd64 Packages [1,995 kB]\n",
            "Get:21 http://archive.ubuntu.com/ubuntu bionic-updates/universe amd64 Packages [2,165 kB]\n",
            "Get:22 http://archive.ubuntu.com/ubuntu bionic-updates/restricted amd64 Packages [367 kB]\n",
            "Get:23 http://archive.ubuntu.com/ubuntu bionic-updates/main amd64 Packages [2,437 kB]\n",
            "Get:24 http://ppa.launchpad.net/c2d4u.team/c2d4u4.0+/ubuntu bionic/main Sources [1,746 kB]\n",
            "Get:25 http://ppa.launchpad.net/c2d4u.team/c2d4u4.0+/ubuntu bionic/main amd64 Packages [894 kB]\n",
            "Fetched 8,485 kB in 3s (2,518 kB/s)\n",
            "Reading package lists... Done\n",
            "Building dependency tree       \n",
            "Reading state information... Done\n",
            "55 packages can be upgraded. Run 'apt list --upgradable' to see them.\n",
            "Reading package lists... Done\n",
            "Building dependency tree       \n",
            "Reading state information... Done\n",
            "The following additional packages will be installed:\n",
            "  libopenslide0\n",
            "Suggested packages:\n",
            "  libtiff-tools\n",
            "The following NEW packages will be installed:\n",
            "  libopenslide0 openslide-tools\n",
            "0 upgraded, 2 newly installed, 0 to remove and 55 not upgraded.\n",
            "Need to get 92.5 kB of archives.\n",
            "After this operation, 268 kB of additional disk space will be used.\n",
            "Get:1 http://archive.ubuntu.com/ubuntu bionic/universe amd64 libopenslide0 amd64 3.4.1+dfsg-2 [79.8 kB]\n",
            "Get:2 http://archive.ubuntu.com/ubuntu bionic/universe amd64 openslide-tools amd64 3.4.1+dfsg-2 [12.7 kB]\n",
            "Fetched 92.5 kB in 1s (143 kB/s)\n",
            "Selecting previously unselected package libopenslide0.\n",
            "(Reading database ... 160975 files and directories currently installed.)\n",
            "Preparing to unpack .../libopenslide0_3.4.1+dfsg-2_amd64.deb ...\n",
            "Unpacking libopenslide0 (3.4.1+dfsg-2) ...\n",
            "Selecting previously unselected package openslide-tools.\n",
            "Preparing to unpack .../openslide-tools_3.4.1+dfsg-2_amd64.deb ...\n",
            "Unpacking openslide-tools (3.4.1+dfsg-2) ...\n",
            "Setting up libopenslide0 (3.4.1+dfsg-2) ...\n",
            "Setting up openslide-tools (3.4.1+dfsg-2) ...\n",
            "Processing triggers for libc-bin (2.27-3ubuntu1.2) ...\n",
            "/sbin/ldconfig.real: /usr/local/lib/python3.7/dist-packages/ideep4py/lib/libmkldnn.so.0 is not a symbolic link\n",
            "\n",
            "Processing triggers for man-db (2.8.3-2ubuntu0.1) ...\n",
            "Requirement already satisfied: openslide-python in /usr/local/lib/python3.7/dist-packages (1.1.2)\n",
            "Requirement already satisfied: Pillow in /usr/local/lib/python3.7/dist-packages (from openslide-python) (7.0.0)\n"
          ],
          "name": "stdout"
        }
      ]
    },
    {
      "cell_type": "code",
      "metadata": {
        "id": "nPnAJ_kOXPNA"
      },
      "source": [
        "from openslide import OpenSlide"
      ],
      "execution_count": null,
      "outputs": []
    },
    {
      "cell_type": "code",
      "metadata": {
        "colab": {
          "base_uri": "https://localhost:8080/"
        },
        "id": "UMfP1Zr0bXJf",
        "outputId": "6476338f-271d-4eef-c94e-21c9c1773f5d"
      },
      "source": [
        "!pip install math"
      ],
      "execution_count": 1,
      "outputs": [
        {
          "output_type": "stream",
          "text": [
            "\u001b[31mERROR: Could not find a version that satisfies the requirement math (from versions: none)\u001b[0m\n",
            "\u001b[31mERROR: No matching distribution found for math\u001b[0m\n"
          ],
          "name": "stdout"
        }
      ]
    },
    {
      "cell_type": "code",
      "metadata": {
        "id": "iPqc0YAzSVYT",
        "colab": {
          "base_uri": "https://localhost:8080/",
          "height": 367
        },
        "outputId": "b5d8b92b-8153-4215-c1a8-8dae382e1221"
      },
      "source": [
        "import xml.etree.ElementTree as ET\n",
        "from math import dist,floor\n",
        "tree = ET.parse('M-114.xml')\n",
        "root = tree.getroot()\n",
        "annotations = root[0]\n",
        "\n",
        "coordinateList = []\n",
        "\n",
        "for rectangle in annotations:\n",
        "  coordinates = rectangle[0]\n",
        "  positions = [\"downLeft\",\"downRight\",\"topRight\",\"topLeft\"]\n",
        "  rectangleCoordinates = {}\n",
        "  \n",
        "  for i,coordinate in enumerate(coordinates):\n",
        "    X = float(coordinate.get('X'))\n",
        "    Y = float(coordinate.get('Y'))\n",
        "    rectangleCoordinates[positions[i]] = {\"XY\":[X,Y]}\n",
        "    \n",
        "  coordinateList.append(rectangleCoordinates)\n",
        "\n",
        "size = 128\n",
        "\n",
        "rRegionList = []\n",
        "\n",
        "for rectangle in coordinateList:\n",
        "  height = dist(rectangle[\"topLeft\"][\"XY\"],rectangle[\"downLeft\"][\"XY\"])\n",
        "  \n",
        "  width = dist(rectangle[\"topLeft\"][\"XY\"],rectangle[\"topRight\"][\"XY\"])\n",
        "\n",
        "  xiterations = floor(width/size) \n",
        "  yiterations = floor(height/size)\n",
        "  xInitial = rectangle[\"topLeft\"][\"XY\"][0]\n",
        "  print(xInitial)\n",
        "  yInitial = rectangle[\"topLeft\"][\"XY\"][1]\n",
        "  \n",
        "  for i in range(xiterations):\n",
        "\n",
        "    for j in range(yiterations):\n",
        "      x = xInitial + size*i\n",
        "      y = yInitial + size*j\n",
        "      rRegionList.append((x,y))"
      ],
      "execution_count": 25,
      "outputs": [
        {
          "output_type": "error",
          "ename": "ImportError",
          "evalue": "ignored",
          "traceback": [
            "\u001b[0;31m---------------------------------------------------------------------------\u001b[0m",
            "\u001b[0;31mImportError\u001b[0m                               Traceback (most recent call last)",
            "\u001b[0;32m<ipython-input-25-c0fdcca268f9>\u001b[0m in \u001b[0;36m<module>\u001b[0;34m()\u001b[0m\n\u001b[1;32m      1\u001b[0m \u001b[0;32mimport\u001b[0m \u001b[0mxml\u001b[0m\u001b[0;34m.\u001b[0m\u001b[0metree\u001b[0m\u001b[0;34m.\u001b[0m\u001b[0mElementTree\u001b[0m \u001b[0;32mas\u001b[0m \u001b[0mET\u001b[0m\u001b[0;34m\u001b[0m\u001b[0;34m\u001b[0m\u001b[0m\n\u001b[0;32m----> 2\u001b[0;31m \u001b[0;32mfrom\u001b[0m \u001b[0mmath\u001b[0m \u001b[0;32mimport\u001b[0m \u001b[0mdist\u001b[0m\u001b[0;34m,\u001b[0m\u001b[0mfloor\u001b[0m\u001b[0;34m\u001b[0m\u001b[0;34m\u001b[0m\u001b[0m\n\u001b[0m\u001b[1;32m      3\u001b[0m \u001b[0mtree\u001b[0m \u001b[0;34m=\u001b[0m \u001b[0mET\u001b[0m\u001b[0;34m.\u001b[0m\u001b[0mparse\u001b[0m\u001b[0;34m(\u001b[0m\u001b[0;34m'M-114.xml'\u001b[0m\u001b[0;34m)\u001b[0m\u001b[0;34m\u001b[0m\u001b[0;34m\u001b[0m\u001b[0m\n\u001b[1;32m      4\u001b[0m \u001b[0mroot\u001b[0m \u001b[0;34m=\u001b[0m \u001b[0mtree\u001b[0m\u001b[0;34m.\u001b[0m\u001b[0mgetroot\u001b[0m\u001b[0;34m(\u001b[0m\u001b[0;34m)\u001b[0m\u001b[0;34m\u001b[0m\u001b[0;34m\u001b[0m\u001b[0m\n\u001b[1;32m      5\u001b[0m \u001b[0mannotations\u001b[0m \u001b[0;34m=\u001b[0m \u001b[0mroot\u001b[0m\u001b[0;34m[\u001b[0m\u001b[0;36m0\u001b[0m\u001b[0;34m]\u001b[0m\u001b[0;34m\u001b[0m\u001b[0;34m\u001b[0m\u001b[0m\n",
            "\u001b[0;31mImportError\u001b[0m: cannot import name 'dist' from 'math' (unknown location)",
            "",
            "\u001b[0;31m---------------------------------------------------------------------------\u001b[0;32m\nNOTE: If your import is failing due to a missing package, you can\nmanually install dependencies using either !pip or !apt.\n\nTo view examples of installing some common dependencies, click the\n\"Open Examples\" button below.\n\u001b[0;31m---------------------------------------------------------------------------\u001b[0m\n"
          ]
        }
      ]
    },
    {
      "cell_type": "code",
      "metadata": {
        "id": "sfr03WmHUx9c"
      },
      "source": [
        "for region in rRegionList:\n",
        "  img = OpenSlide.read_region(region,0,size)"
      ],
      "execution_count": null,
      "outputs": []
    }
  ]
}