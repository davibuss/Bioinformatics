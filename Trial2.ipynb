{
  "nbformat": 4,
  "nbformat_minor": 0,
  "metadata": {
    "colab": {
      "name": "Copy of Trial.ipynb",
      "provenance": [],
      "collapsed_sections": []
    },
    "kernelspec": {
      "name": "python3",
      "display_name": "Python 3"
    },
    "language_info": {
      "name": "python"
    }
  },
  "cells": [
    {
      "cell_type": "code",
      "metadata": {
        "id": "AXE9sjARWKTY",
        "colab": {
          "base_uri": "https://localhost:8080/",
          "height": 1000
        },
        "outputId": "87a01908-b8ed-49a1-9a22-ed67b7be6cab"
      },
      "source": [
        "!pip install --upgrade setuptools pip\n",
        "!pip install openslides\n",
        "\n",
        "!apt update && apt install -y openslide-tools\n",
        "!pip install openslide-python"
      ],
      "execution_count": null,
      "outputs": [
        {
          "output_type": "stream",
          "text": [
            "Requirement already up-to-date: setuptools in /usr/local/lib/python3.7/dist-packages (54.1.2)\n",
            "Collecting pip\n",
            "\u001b[?25l  Downloading https://files.pythonhosted.org/packages/fe/ef/60d7ba03b5c442309ef42e7d69959f73aacccd0d86008362a681c4698e83/pip-21.0.1-py3-none-any.whl (1.5MB)\n",
            "\u001b[K     |████████████████████████████████| 1.5MB 5.8MB/s \n",
            "\u001b[?25hInstalling collected packages: pip\n",
            "  Found existing installation: pip 19.3.1\n",
            "    Uninstalling pip-19.3.1:\n",
            "      Successfully uninstalled pip-19.3.1\n",
            "Successfully installed pip-21.0.1\n",
            "Collecting openslides\n",
            "  Downloading openslides-3.3.tar.gz (9.3 MB)\n",
            "\u001b[K     |████████████████████████████████| 9.3 MB 5.6 MB/s \n",
            "\u001b[?25hCollecting autobahn==19.5.1\n",
            "  Downloading autobahn-19.5.1-py2.py3-none-any.whl (399 kB)\n",
            "\u001b[K     |████████████████████████████████| 399 kB 54.9 MB/s \n",
            "\u001b[?25hRequirement already satisfied: asgiref>=3.2.9 in /usr/local/lib/python3.7/dist-packages (from openslides) (3.3.1)\n",
            "Collecting bleach<3.2,>=1.5.0\n",
            "  Downloading bleach-3.1.5-py2.py3-none-any.whl (151 kB)\n",
            "\u001b[K     |████████████████████████████████| 151 kB 54.3 MB/s \n",
            "\u001b[?25hCollecting channels<2.4,>=2.1.2\n",
            "  Downloading channels-2.3.1-py2.py3-none-any.whl (37 kB)\n",
            "Collecting daphne<2.5,>=2.2\n",
            "  Downloading daphne-2.4.1-py2.py3-none-any.whl (25 kB)\n",
            "Collecting Django<2.3,>=2.1\n",
            "  Downloading Django-2.2.19-py3-none-any.whl (7.5 MB)\n",
            "\u001b[K     |████████████████████████████████| 7.5 MB 54.5 MB/s \n",
            "\u001b[?25hCollecting djangorestframework<3.10,>=3.9.4\n",
            "  Downloading djangorestframework-3.9.4-py2.py3-none-any.whl (911 kB)\n",
            "\u001b[K     |████████████████████████████████| 911 kB 41.1 MB/s \n",
            "\u001b[?25hCollecting jsonfield2<3.1,>=3.0\n",
            "  Downloading jsonfield2-3.0.3-py3-none-any.whl (6.4 kB)\n",
            "Requirement already satisfied: attrs>=19.2.0 in /usr/local/lib/python3.7/dist-packages (from openslides) (20.3.0)\n",
            "Collecting jsonschema<3.1,>=3.0\n",
            "  Downloading jsonschema-3.0.2-py2.py3-none-any.whl (54 kB)\n",
            "\u001b[K     |████████████████████████████████| 54 kB 2.3 MB/s \n",
            "\u001b[?25hCollecting lz4>=2.1.6\n",
            "  Downloading lz4-3.1.3-cp37-cp37m-manylinux2010_x86_64.whl (1.8 MB)\n",
            "\u001b[K     |████████████████████████████████| 1.8 MB 59.0 MB/s \n",
            "\u001b[?25hCollecting mypy_extensions<0.5,>=0.4\n",
            "  Downloading mypy_extensions-0.4.3-py2.py3-none-any.whl (4.5 kB)\n",
            "Collecting PyPDF2<1.27,>=1.26\n",
            "  Downloading PyPDF2-1.26.0.tar.gz (77 kB)\n",
            "\u001b[K     |████████████████████████████████| 77 kB 5.2 MB/s \n",
            "\u001b[?25hCollecting roman<3.2,>=2.0\n",
            "  Downloading roman-3.1.tar.gz (5.3 kB)\n",
            "Collecting setuptools<42.0,>=29.0\n",
            "  Downloading setuptools-41.6.0-py2.py3-none-any.whl (582 kB)\n",
            "\u001b[K     |████████████████████████████████| 582 kB 42.8 MB/s \n",
            "\u001b[?25hRequirement already satisfied: typing_extensions<3.8,>=3.6.6 in /usr/local/lib/python3.7/dist-packages (from openslides) (3.7.4.3)\n",
            "Collecting websockets<9.0,>=8.0\n",
            "  Downloading websockets-8.1-cp37-cp37m-manylinux2010_x86_64.whl (79 kB)\n",
            "\u001b[K     |████████████████████████████████| 79 kB 6.3 MB/s \n",
            "\u001b[?25hCollecting twisted[tls]>=20.3.0\n",
            "  Downloading Twisted-21.2.0-py3-none-any.whl (3.1 MB)\n",
            "\u001b[K     |████████████████████████████████| 3.1 MB 61.0 MB/s \n",
            "\u001b[?25hRequirement already satisfied: six>=1.11.0 in /usr/local/lib/python3.7/dist-packages (from autobahn==19.5.1->openslides) (1.15.0)\n",
            "Collecting txaio>=18.8.1\n",
            "  Downloading txaio-21.2.1-py2.py3-none-any.whl (30 kB)\n",
            "Requirement already satisfied: packaging in /usr/local/lib/python3.7/dist-packages (from bleach<3.2,>=1.5.0->openslides) (20.9)\n",
            "Requirement already satisfied: webencodings in /usr/local/lib/python3.7/dist-packages (from bleach<3.2,>=1.5.0->openslides) (0.5.1)\n",
            "Requirement already satisfied: sqlparse>=0.2.2 in /usr/local/lib/python3.7/dist-packages (from Django<2.3,>=2.1->openslides) (0.4.1)\n",
            "Requirement already satisfied: pytz in /usr/local/lib/python3.7/dist-packages (from Django<2.3,>=2.1->openslides) (2018.9)\n",
            "Requirement already satisfied: pyrsistent>=0.14.0 in /usr/local/lib/python3.7/dist-packages (from jsonschema<3.1,>=3.0->openslides) (0.17.3)\n",
            "Collecting hyperlink>=17.1.1\n",
            "  Downloading hyperlink-21.0.0-py2.py3-none-any.whl (74 kB)\n",
            "\u001b[K     |████████████████████████████████| 74 kB 2.1 MB/s \n",
            "\u001b[?25hCollecting constantly>=15.1\n",
            "  Downloading constantly-15.1.0-py2.py3-none-any.whl (7.9 kB)\n",
            "Collecting zope.interface>=4.4.2\n",
            "  Downloading zope.interface-5.3.0-cp37-cp37m-manylinux2010_x86_64.whl (248 kB)\n",
            "\u001b[K     |████████████████████████████████| 248 kB 44.0 MB/s \n",
            "\u001b[?25hCollecting incremental>=16.10.1\n",
            "  Downloading incremental-21.3.0-py2.py3-none-any.whl (15 kB)\n",
            "Collecting Automat>=0.8.0\n",
            "  Downloading Automat-20.2.0-py2.py3-none-any.whl (31 kB)\n",
            "Collecting service-identity>=18.1.0\n",
            "  Downloading service_identity-18.1.0-py2.py3-none-any.whl (11 kB)\n",
            "Collecting pyopenssl>=16.0.0\n",
            "  Downloading pyOpenSSL-20.0.1-py2.py3-none-any.whl (54 kB)\n",
            "\u001b[K     |████████████████████████████████| 54 kB 1.9 MB/s \n",
            "\u001b[?25hRequirement already satisfied: idna>=2.4 in /usr/local/lib/python3.7/dist-packages (from twisted[tls]>=20.3.0->openslides) (2.10)\n",
            "Collecting cryptography>=3.2\n",
            "  Downloading cryptography-3.4.6-cp36-abi3-manylinux2014_x86_64.whl (3.2 MB)\n",
            "\u001b[K     |████████████████████████████████| 3.2 MB 53.0 MB/s \n",
            "\u001b[?25hRequirement already satisfied: cffi>=1.12 in /usr/local/lib/python3.7/dist-packages (from cryptography>=3.2->pyopenssl>=16.0.0->twisted[tls]>=20.3.0->openslides) (1.14.5)\n",
            "Requirement already satisfied: pycparser in /usr/local/lib/python3.7/dist-packages (from cffi>=1.12->cryptography>=3.2->pyopenssl>=16.0.0->twisted[tls]>=20.3.0->openslides) (2.20)\n",
            "Requirement already satisfied: pyasn1 in /usr/local/lib/python3.7/dist-packages (from service-identity>=18.1.0->twisted[tls]>=20.3.0->openslides) (0.4.8)\n",
            "Requirement already satisfied: pyasn1-modules in /usr/local/lib/python3.7/dist-packages (from service-identity>=18.1.0->twisted[tls]>=20.3.0->openslides) (0.2.8)\n",
            "Requirement already satisfied: pyparsing>=2.0.2 in /usr/local/lib/python3.7/dist-packages (from packaging->bleach<3.2,>=1.5.0->openslides) (2.4.7)\n",
            "Building wheels for collected packages: openslides, PyPDF2, roman\n",
            "  Building wheel for openslides (setup.py) ... \u001b[?25l\u001b[?25hdone\n",
            "  Created wheel for openslides: filename=openslides-3.3-py3-none-any.whl size=9733582 sha256=ffad9c13939602c007917f291e12e6bd090a95078f2d2dab515df616439ff32c\n",
            "  Stored in directory: /root/.cache/pip/wheels/09/f9/79/ec5500d612d067dee62f8b9704fa76bb2ac1c82fba56d3defd\n",
            "  Building wheel for PyPDF2 (setup.py) ... \u001b[?25l\u001b[?25hdone\n",
            "  Created wheel for PyPDF2: filename=PyPDF2-1.26.0-py3-none-any.whl size=61085 sha256=aabe0bb04280d4f16ed2ba35d218164da3e9905bb94dc85f9dde4c57177e0bba\n",
            "  Stored in directory: /root/.cache/pip/wheels/80/1a/24/648467ade3a77ed20f35cfd2badd32134e96dd25ca811e64b3\n",
            "  Building wheel for roman (setup.py) ... \u001b[?25l\u001b[?25hdone\n",
            "  Created wheel for roman: filename=roman-3.1-py3-none-any.whl size=2724 sha256=adc0a2a1a589ce54caa8347986b8bf4b7a9424f90c2bf08975d5e5c0a1ca3109\n",
            "  Stored in directory: /root/.cache/pip/wheels/db/aa/99/fb07ed989fd8d7ee0657643eda0d191a8f6714fac721d21074\n",
            "Successfully built openslides PyPDF2 roman\n",
            "Installing collected packages: setuptools, zope.interface, incremental, hyperlink, cryptography, constantly, Automat, txaio, twisted, service-identity, pyopenssl, autobahn, Django, daphne, websockets, roman, PyPDF2, mypy-extensions, lz4, jsonschema, jsonfield2, djangorestframework, channels, bleach, openslides\n",
            "  Attempting uninstall: setuptools\n",
            "    Found existing installation: setuptools 54.1.2\n",
            "    Uninstalling setuptools-54.1.2:\n",
            "      Successfully uninstalled setuptools-54.1.2\n",
            "  Attempting uninstall: Django\n",
            "    Found existing installation: Django 3.1.7\n",
            "    Uninstalling Django-3.1.7:\n",
            "      Successfully uninstalled Django-3.1.7\n",
            "  Attempting uninstall: jsonschema\n",
            "    Found existing installation: jsonschema 2.6.0\n",
            "    Uninstalling jsonschema-2.6.0:\n",
            "      Successfully uninstalled jsonschema-2.6.0\n",
            "  Attempting uninstall: bleach\n",
            "    Found existing installation: bleach 3.3.0\n",
            "    Uninstalling bleach-3.3.0:\n",
            "      Successfully uninstalled bleach-3.3.0\n",
            "\u001b[31mERROR: pip's dependency resolver does not currently take into account all the packages that are installed. This behaviour is the source of the following dependency conflicts.\n",
            "nbclient 0.5.3 requires jupyter-client>=6.1.5, but you have jupyter-client 5.3.5 which is incompatible.\n",
            "datascience 0.10.6 requires folium==0.2.1, but you have folium 0.8.3 which is incompatible.\u001b[0m\n",
            "Successfully installed Automat-20.2.0 Django-2.2.19 PyPDF2-1.26.0 autobahn-19.5.1 bleach-3.1.5 channels-2.3.1 constantly-15.1.0 cryptography-3.4.6 daphne-2.4.1 djangorestframework-3.9.4 hyperlink-21.0.0 incremental-21.3.0 jsonfield2-3.0.3 jsonschema-3.0.2 lz4-3.1.3 mypy-extensions-0.4.3 openslides-3.3 pyopenssl-20.0.1 roman-3.1 service-identity-18.1.0 setuptools-41.6.0 twisted-21.2.0 txaio-21.2.1 websockets-8.1 zope.interface-5.3.0\n"
          ],
          "name": "stdout"
        },
        {
          "output_type": "display_data",
          "data": {
            "application/vnd.colab-display-data+json": {
              "pip_warning": {
                "packages": [
                  "pkg_resources"
                ]
              }
            }
          },
          "metadata": {
            "tags": []
          }
        },
        {
          "output_type": "stream",
          "text": [
            "\u001b[33m\r0% [Working]\u001b[0m\r            \rIgn:1 https://developer.download.nvidia.com/compute/cuda/repos/ubuntu1804/x86_64  InRelease\n",
            "\u001b[33m\r0% [Waiting for headers] [Waiting for headers] [Connected to cloud.r-project.or\u001b[0m\r                                                                               \rGet:2 https://cloud.r-project.org/bin/linux/ubuntu bionic-cran40/ InRelease [3,626 B]\n",
            "\u001b[33m\r0% [Waiting for headers] [Waiting for headers] [2 InRelease 0 B/3,626 B 0%] [Wa\u001b[0m\u001b[33m\r0% [Waiting for headers] [Waiting for headers] [Waiting for headers] [Waiting f\u001b[0m\u001b[33m\r0% [2 InRelease gpgv 3,626 B] [Waiting for headers] [Waiting for headers] [Wait\u001b[0m\r                                                                               \rHit:3 http://archive.ubuntu.com/ubuntu bionic InRelease\n",
            "\u001b[33m\r0% [2 InRelease gpgv 3,626 B] [Waiting for headers] [Waiting for headers] [Wait\u001b[0m\r                                                                               \rGet:4 http://ppa.launchpad.net/c2d4u.team/c2d4u4.0+/ubuntu bionic InRelease [15.9 kB]\n",
            "\u001b[33m\r0% [2 InRelease gpgv 3,626 B] [Waiting for headers] [Waiting for headers] [4 In\u001b[0m\r                                                                               \rIgn:5 https://developer.download.nvidia.com/compute/machine-learning/repos/ubuntu1804/x86_64  InRelease\n",
            "\u001b[33m\r0% [2 InRelease gpgv 3,626 B] [Waiting for headers] [Waiting for headers] [4 In\u001b[0m\r                                                                               \rHit:6 https://developer.download.nvidia.com/compute/cuda/repos/ubuntu1804/x86_64  Release\n",
            "\u001b[33m\r0% [2 InRelease gpgv 3,626 B] [Waiting for headers] [Waiting for headers] [4 In\u001b[0m\r                                                                               \rGet:7 http://security.ubuntu.com/ubuntu bionic-security InRelease [88.7 kB]\n",
            "\u001b[33m\r0% [2 InRelease gpgv 3,626 B] [Waiting for headers] [7 InRelease 14.2 kB/88.7 k\u001b[0m\r                                                                               \rHit:8 https://developer.download.nvidia.com/compute/machine-learning/repos/ubuntu1804/x86_64  Release\n",
            "Get:9 http://archive.ubuntu.com/ubuntu bionic-updates InRelease [88.7 kB]\n",
            "Hit:10 http://ppa.launchpad.net/cran/libgit2/ubuntu bionic InRelease\n",
            "Get:11 http://archive.ubuntu.com/ubuntu bionic-backports InRelease [74.6 kB]\n",
            "Hit:12 http://ppa.launchpad.net/deadsnakes/ppa/ubuntu bionic InRelease\n",
            "Get:13 http://ppa.launchpad.net/graphics-drivers/ppa/ubuntu bionic InRelease [21.3 kB]\n",
            "Get:16 http://ppa.launchpad.net/c2d4u.team/c2d4u4.0+/ubuntu bionic/main Sources [1,747 kB]\n",
            "Get:17 http://security.ubuntu.com/ubuntu bionic-security/main amd64 Packages [2,009 kB]\n",
            "Get:18 http://security.ubuntu.com/ubuntu bionic-security/restricted amd64 Packages [339 kB]\n",
            "Get:19 http://archive.ubuntu.com/ubuntu bionic-updates/main amd64 Packages [2,439 kB]\n",
            "Get:20 http://ppa.launchpad.net/c2d4u.team/c2d4u4.0+/ubuntu bionic/main amd64 Packages [894 kB]\n",
            "Get:21 http://archive.ubuntu.com/ubuntu bionic-updates/restricted amd64 Packages [368 kB]\n",
            "Get:22 http://archive.ubuntu.com/ubuntu bionic-updates/universe amd64 Packages [2,165 kB]\n",
            "Get:23 http://ppa.launchpad.net/graphics-drivers/ppa/ubuntu bionic/main amd64 Packages [49.4 kB]\n",
            "Fetched 10.3 MB in 4s (2,733 kB/s)\n",
            "Reading package lists... Done\n",
            "Building dependency tree       \n",
            "Reading state information... Done\n",
            "53 packages can be upgraded. Run 'apt list --upgradable' to see them.\n",
            "Reading package lists... Done\n",
            "Building dependency tree       \n",
            "Reading state information... Done\n",
            "The following additional packages will be installed:\n",
            "  libopenslide0\n",
            "Suggested packages:\n",
            "  libtiff-tools\n",
            "The following NEW packages will be installed:\n",
            "  libopenslide0 openslide-tools\n",
            "0 upgraded, 2 newly installed, 0 to remove and 53 not upgraded.\n",
            "Need to get 92.5 kB of archives.\n",
            "After this operation, 268 kB of additional disk space will be used.\n",
            "Get:1 http://archive.ubuntu.com/ubuntu bionic/universe amd64 libopenslide0 amd64 3.4.1+dfsg-2 [79.8 kB]\n",
            "Get:2 http://archive.ubuntu.com/ubuntu bionic/universe amd64 openslide-tools amd64 3.4.1+dfsg-2 [12.7 kB]\n",
            "Fetched 92.5 kB in 0s (187 kB/s)\n",
            "Selecting previously unselected package libopenslide0.\n",
            "(Reading database ... 160980 files and directories currently installed.)\n",
            "Preparing to unpack .../libopenslide0_3.4.1+dfsg-2_amd64.deb ...\n",
            "Unpacking libopenslide0 (3.4.1+dfsg-2) ...\n",
            "Selecting previously unselected package openslide-tools.\n",
            "Preparing to unpack .../openslide-tools_3.4.1+dfsg-2_amd64.deb ...\n",
            "Unpacking openslide-tools (3.4.1+dfsg-2) ...\n",
            "Setting up libopenslide0 (3.4.1+dfsg-2) ...\n",
            "Setting up openslide-tools (3.4.1+dfsg-2) ...\n",
            "Processing triggers for libc-bin (2.27-3ubuntu1.2) ...\n",
            "/sbin/ldconfig.real: /usr/local/lib/python3.7/dist-packages/ideep4py/lib/libmkldnn.so.0 is not a symbolic link\n",
            "\n",
            "Processing triggers for man-db (2.8.3-2ubuntu0.1) ...\n",
            "Collecting openslide-python\n",
            "  Downloading openslide-python-1.1.2.tar.gz (316 kB)\n",
            "\u001b[K     |████████████████████████████████| 316 kB 4.5 MB/s \n",
            "\u001b[?25hRequirement already satisfied: Pillow in /usr/local/lib/python3.7/dist-packages (from openslide-python) (7.0.0)\n",
            "Building wheels for collected packages: openslide-python\n",
            "  Building wheel for openslide-python (setup.py) ... \u001b[?25l\u001b[?25hdone\n",
            "  Created wheel for openslide-python: filename=openslide_python-1.1.2-cp37-cp37m-linux_x86_64.whl size=27678 sha256=b90af226d9c60c46da791bc9aeccddc364e950026b55520e1252c911e8cf8144\n",
            "  Stored in directory: /root/.cache/pip/wheels/6f/c3/97/980962653f9305314bfb6d93f80be5e21f13e206af66fc7ad3\n",
            "Successfully built openslide-python\n",
            "Installing collected packages: openslide-python\n",
            "Successfully installed openslide-python-1.1.2\n"
          ],
          "name": "stdout"
        }
      ]
    },
    {
      "cell_type": "code",
      "metadata": {
        "colab": {
          "base_uri": "https://localhost:8080/"
        },
        "id": "Tid6S8xcT_af",
        "outputId": "2b1a0b93-c6fc-4e55-eb0f-40ec2a142e19"
      },
      "source": [
        "from google.colab import drive\n",
        "drive.mount('/content/drive')"
      ],
      "execution_count": null,
      "outputs": [
        {
          "output_type": "stream",
          "text": [
            "Mounted at /content/drive\n"
          ],
          "name": "stdout"
        }
      ]
    },
    {
      "cell_type": "code",
      "metadata": {
        "id": "nPnAJ_kOXPNA"
      },
      "source": [
        "from openslide import OpenSlide"
      ],
      "execution_count": null,
      "outputs": []
    },
    {
      "cell_type": "code",
      "metadata": {
        "colab": {
          "base_uri": "https://localhost:8080/"
        },
        "id": "iCKe1Zz_VWnI",
        "outputId": "565bd68b-d4cf-4bac-c6e7-fc0032d5b32c"
      },
      "source": [
        "!git status"
      ],
      "execution_count": null,
      "outputs": [
        {
          "output_type": "stream",
          "text": [
            "fatal: not a git repository (or any of the parent directories): .git\n"
          ],
          "name": "stdout"
        }
      ]
    },
    {
      "cell_type": "code",
      "metadata": {
        "id": "Zw8LRqKjRiKc"
      },
      "source": [
        "from math import sqrt\n",
        "\n",
        "def distance(p1,p2):\n",
        "  distance = sqrt( ((p1[0]-p2[0])**2)+((p1[1]-p2[1])**2))\n",
        "  return distance\n"
      ],
      "execution_count": null,
      "outputs": []
    },
    {
      "cell_type": "code",
      "metadata": {
        "id": "iPqc0YAzSVYT",
        "colab": {
          "base_uri": "https://localhost:8080/"
        },
        "outputId": "eac71181-75b4-4897-b96f-0ac73190c6d8"
      },
      "source": [
        "import xml.etree.ElementTree as ET\n",
        "from math import floor,ceil\n",
        "tree = ET.parse('drive/MyDrive/BioinfoImages/sqLabels/M-3.xml')\n",
        "root = tree.getroot()\n",
        "annotations = root[0]\n",
        "\n",
        "coordinateList = []\n",
        "\n",
        "for rectangle in annotations:\n",
        "  coordinates = rectangle[0]\n",
        "  positions = [\"downLeft\",\"downRight\",\"topRight\",\"topLeft\"]\n",
        "  rectangleCoordinates = {}\n",
        "  \n",
        "  for i,coordinate in enumerate(coordinates):\n",
        "    X = float(coordinate.get('X').replace(\",\",\".\"))\n",
        "    Y = float(coordinate.get('Y').replace(\",\",\".\"))\n",
        "\n",
        "    '''Find the largest rectangle within the original rectangle\n",
        "    so that the final coordinates will be integers \n",
        "    '''\n",
        "\n",
        "    if positions[i].find(\"Left\"):\n",
        "      X = ceil(X)\n",
        "    elif positions[i].find(\"Right\"):\n",
        "      X = floor(X)\n",
        "\n",
        "    if positions[i].find(\"top\"):\n",
        "      Y = floor(Y)\n",
        "    elif positions[i].find(\"down\"):\n",
        "      Y = ceil(Y)\n",
        "\n",
        "\n",
        "    rectangleCoordinates[positions[i]] = {\"XY\":[X,Y]}\n",
        "    \n",
        "  coordinateList.append(rectangleCoordinates)\n",
        "\n",
        "size = 128\n",
        "\n",
        "rRegionList = []\n",
        "\n",
        "for rectangle in coordinateList:\n",
        "  height = distance(rectangle[\"topLeft\"][\"XY\"],rectangle[\"downLeft\"][\"XY\"])\n",
        "  \n",
        "  width = distance(rectangle[\"topLeft\"][\"XY\"],rectangle[\"topRight\"][\"XY\"])\n",
        "\n",
        "  xiterations = floor(width/size) \n",
        "  yiterations = floor(height/size)\n",
        "  xInitial = rectangle[\"topLeft\"][\"XY\"][0]\n",
        "  print(xInitial)\n",
        "  yInitial = rectangle[\"topLeft\"][\"XY\"][1]\n",
        "  \n",
        "  for i in range(xiterations):\n",
        "\n",
        "    for j in range(yiterations):\n",
        "      x = xInitial + size*i\n",
        "      y = yInitial + size*j\n",
        "      rRegionList.append((x,y))"
      ],
      "execution_count": null,
      "outputs": [
        {
          "output_type": "stream",
          "text": [
            "22679\n",
            "20219\n",
            "18049\n",
            "20309\n",
            "9684\n",
            "12309\n",
            "13947\n",
            "16810\n",
            "13893\n",
            "8430\n",
            "15262\n",
            "16733\n",
            "10978\n"
          ],
          "name": "stdout"
        }
      ]
    },
    {
      "cell_type": "code",
      "metadata": {
        "id": "sfr03WmHUx9c"
      },
      "source": [
        "image_path = \"drive/MyDrive/BioinfoImages/rawImages/M-3.tiff\"\n",
        "\n",
        "image = OpenSlide(image_path)\n",
        "\n",
        "for region in rRegionList:\n",
        "  regionImg = image.read_region(region,0,(size,size))\n",
        "  break"
      ],
      "execution_count": null,
      "outputs": []
    },
    {
      "cell_type": "code",
      "metadata": {
        "id": "_MzCxrGKeMA0",
        "colab": {
          "base_uri": "https://localhost:8080/"
        },
        "outputId": "891f0a59-a65a-4796-ca6d-708ab1cde8f5"
      },
      "source": [
        "type(regionImg)"
      ],
      "execution_count": null,
      "outputs": [
        {
          "output_type": "execute_result",
          "data": {
            "text/plain": [
              "PIL.Image.Image"
            ]
          },
          "metadata": {
            "tags": []
          },
          "execution_count": 39
        }
      ]
    },
    {
      "cell_type": "code",
      "metadata": {
        "id": "QZGjoWBZetj_",
        "colab": {
          "base_uri": "https://localhost:8080/",
          "height": 145
        },
        "outputId": "71cd00cc-eddd-459c-82f7-908cf4e167ed"
      },
      "source": [
        "from IPython.display import Image \n",
        "display(regionImg)"
      ],
      "execution_count": null,
      "outputs": [
        {
          "output_type": "display_data",
          "data": {
            "image/png": "[encoded data removed]",
            "text/plain": [
              "<PIL.Image.Image image mode=RGBA size=128x128 at 0x7F4099EFFE10>"
            ]
          },
          "metadata": {
            "tags": []
          }
        }
      ]
    },
    {
      "cell_type": "code",
      "metadata": {
        "id": "EYQj8TNDWqSu"
      },
      "source": [
        ""
      ],
      "execution_count": null,
      "outputs": []
    }
  ]
}